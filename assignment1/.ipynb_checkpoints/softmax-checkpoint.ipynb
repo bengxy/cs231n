{
 "cells": [
  {
   "cell_type": "markdown",
   "metadata": {},
   "source": [
    "# Softmax exercise\n",
    "\n",
    "*Complete and hand in this completed worksheet (including its outputs and any supporting code outside of the worksheet) with your assignment submission. For more details see the [assignments page](http://vision.stanford.edu/teaching/cs231n/assignments.html) on the course website.*\n",
    "\n",
    "This exercise is analogous to the SVM exercise. You will:\n",
    "\n",
    "- implement a fully-vectorized **loss function** for the Softmax classifier\n",
    "- implement the fully-vectorized expression for its **analytic gradient**\n",
    "- **check your implementation** with numerical gradient\n",
    "- use a validation set to **tune the learning rate and regularization** strength\n",
    "- **optimize** the loss function with **SGD**\n",
    "- **visualize** the final learned weights\n"
   ]
  },
  {
   "cell_type": "code",
   "execution_count": 1,
   "metadata": {
    "collapsed": false
   },
   "outputs": [],
   "source": [
    "import random\n",
    "import numpy as np\n",
    "from cs231n.data_utils import load_CIFAR10\n",
    "import matplotlib.pyplot as plt\n",
    "%matplotlib inline\n",
    "plt.rcParams['figure.figsize'] = (10.0, 8.0) # set default size of plots\n",
    "plt.rcParams['image.interpolation'] = 'nearest'\n",
    "plt.rcParams['image.cmap'] = 'gray'\n",
    "\n",
    "# for auto-reloading extenrnal modules\n",
    "# see http://stackoverflow.com/questions/1907993/autoreload-of-modules-in-ipython\n",
    "%load_ext autoreload\n",
    "%autoreload 2"
   ]
  },
  {
   "cell_type": "code",
   "execution_count": 2,
   "metadata": {
    "collapsed": false
   },
   "outputs": [
    {
     "name": "stdout",
     "output_type": "stream",
     "text": [
      "Train data shape:  (49000, 3073)\n",
      "Train labels shape:  (49000,)\n",
      "Validation data shape:  (1000, 3073)\n",
      "Validation labels shape:  (1000,)\n",
      "Test data shape:  (1000, 3073)\n",
      "Test labels shape:  (1000,)\n",
      "dev data shape:  (500, 3073)\n",
      "dev labels shape:  (500,)\n"
     ]
    }
   ],
   "source": [
    "def get_CIFAR10_data(num_training=49000, num_validation=1000, num_test=1000, num_dev=500):\n",
    "  \"\"\"\n",
    "  Load the CIFAR-10 dataset from disk and perform preprocessing to prepare\n",
    "  it for the linear classifier. These are the same steps as we used for the\n",
    "  SVM, but condensed to a single function.  \n",
    "  \"\"\"\n",
    "  # Load the raw CIFAR-10 data\n",
    "  cifar10_dir = 'cs231n/datasets/cifar-10-batches-py'\n",
    "  X_train, y_train, X_test, y_test = load_CIFAR10(cifar10_dir)\n",
    "  \n",
    "  # subsample the data\n",
    "  mask = range(num_training, num_training + num_validation)\n",
    "  X_val = X_train[mask]\n",
    "  y_val = y_train[mask]\n",
    "  mask = range(num_training)\n",
    "  X_train = X_train[mask]\n",
    "  y_train = y_train[mask]\n",
    "  mask = range(num_test)\n",
    "  X_test = X_test[mask]\n",
    "  y_test = y_test[mask]\n",
    "  mask = np.random.choice(num_training, num_dev, replace=False)\n",
    "  X_dev = X_train[mask]\n",
    "  y_dev = y_train[mask]\n",
    "  \n",
    "  # Preprocessing: reshape the image data into rows\n",
    "  X_train = np.reshape(X_train, (X_train.shape[0], -1))\n",
    "  X_val = np.reshape(X_val, (X_val.shape[0], -1))\n",
    "  X_test = np.reshape(X_test, (X_test.shape[0], -1))\n",
    "  X_dev = np.reshape(X_dev, (X_dev.shape[0], -1))\n",
    "  \n",
    "  # Normalize the data: subtract the mean image\n",
    "  mean_image = np.mean(X_train, axis = 0)\n",
    "  X_train -= mean_image\n",
    "  X_val -= mean_image\n",
    "  X_test -= mean_image\n",
    "  X_dev -= mean_image\n",
    "  \n",
    "  # add bias dimension and transform into columns\n",
    "  X_train = np.hstack([X_train, np.ones((X_train.shape[0], 1))])\n",
    "  X_val = np.hstack([X_val, np.ones((X_val.shape[0], 1))])\n",
    "  X_test = np.hstack([X_test, np.ones((X_test.shape[0], 1))])\n",
    "  X_dev = np.hstack([X_dev, np.ones((X_dev.shape[0], 1))])\n",
    "  \n",
    "  return X_train, y_train, X_val, y_val, X_test, y_test, X_dev, y_dev\n",
    "\n",
    "\n",
    "# Invoke the above function to get our data.\n",
    "X_train, y_train, X_val, y_val, X_test, y_test, X_dev, y_dev = get_CIFAR10_data()\n",
    "print 'Train data shape: ', X_train.shape\n",
    "print 'Train labels shape: ', y_train.shape\n",
    "print 'Validation data shape: ', X_val.shape\n",
    "print 'Validation labels shape: ', y_val.shape\n",
    "print 'Test data shape: ', X_test.shape\n",
    "print 'Test labels shape: ', y_test.shape\n",
    "print 'dev data shape: ', X_dev.shape\n",
    "print 'dev labels shape: ', y_dev.shape"
   ]
  },
  {
   "cell_type": "markdown",
   "metadata": {},
   "source": [
    "## Softmax Classifier\n",
    "\n",
    "Your code for this section will all be written inside **cs231n/classifiers/softmax.py**. \n"
   ]
  },
  {
   "cell_type": "code",
   "execution_count": 5,
   "metadata": {
    "collapsed": false
   },
   "outputs": [
    {
     "name": "stdout",
     "output_type": "stream",
     "text": [
      "loss: 2.352806\n",
      "sanity check: 2.302585\n"
     ]
    }
   ],
   "source": [
    "# First implement the naive softmax loss function with nested loops.\n",
    "# Open the file cs231n/classifiers/softmax.py and implement the\n",
    "# softmax_loss_naive function.\n",
    "\n",
    "from cs231n.classifiers.softmax import softmax_loss_naive\n",
    "import time\n",
    "\n",
    "# Generate a random softmax weight matrix and use it to compute the loss.\n",
    "W = np.random.randn(3073, 10) * 0.0001\n",
    "loss, grad = softmax_loss_naive(W, X_dev, y_dev, 0.0)\n",
    "\n",
    "# As a rough sanity check, our loss should be something close to -log(0.1).\n",
    "print 'loss: %f' % loss\n",
    "print 'sanity check: %f' % (-np.log(0.1))"
   ]
  },
  {
   "cell_type": "markdown",
   "metadata": {},
   "source": [
    "## Inline Question 1:\n",
    "Why do we expect our loss to be close to -log(0.1)? Explain briefly.**\n",
    "\n",
    "**Your answer:** *Fill this in*\n",
    "initial W is zero so Softmax e^i/sig(e^i) ~ 1/c = 0.1\n"
   ]
  },
  {
   "cell_type": "code",
   "execution_count": 6,
   "metadata": {
    "collapsed": false
   },
   "outputs": [
    {
     "name": "stdout",
     "output_type": "stream",
     "text": [
      "numerical: 1.569954 analytic: 1.569954, relative error: 2.537376e-08\n",
      "numerical: 1.650117 analytic: 1.650116, relative error: 3.989151e-09\n",
      "numerical: 3.544869 analytic: 3.544869, relative error: 5.201398e-09\n",
      "numerical: -0.476860 analytic: -0.476861, relative error: 6.969240e-08\n",
      "numerical: -1.340307 analytic: -1.340307, relative error: 2.066248e-08\n",
      "numerical: 2.724958 analytic: 2.724958, relative error: 2.804777e-08\n",
      "numerical: -1.963135 analytic: -1.963135, relative error: 3.727625e-08\n",
      "numerical: 0.297339 analytic: 0.297339, relative error: 2.699338e-08\n",
      "numerical: -1.114814 analytic: -1.114814, relative error: 1.307433e-08\n",
      "numerical: -0.505150 analytic: -0.505150, relative error: 7.824678e-10\n",
      "numerical: 0.106584 analytic: 0.106584, relative error: 1.877129e-07\n",
      "numerical: -1.203950 analytic: -1.203950, relative error: 3.227521e-08\n",
      "numerical: -0.862840 analytic: -0.862840, relative error: 8.929703e-09\n",
      "numerical: 3.210749 analytic: 3.210749, relative error: 1.207573e-08\n",
      "numerical: 4.120744 analytic: 4.120744, relative error: 2.425029e-08\n",
      "numerical: 0.814880 analytic: 0.814880, relative error: 2.008879e-09\n",
      "numerical: -7.765487 analytic: -7.765487, relative error: 7.995825e-10\n",
      "numerical: -0.117815 analytic: -0.117815, relative error: 5.026384e-07\n",
      "numerical: -0.061321 analytic: -0.061321, relative error: 1.254002e-06\n",
      "numerical: -0.729331 analytic: -0.729331, relative error: 4.735459e-08\n"
     ]
    }
   ],
   "source": [
    "# Complete the implementation of softmax_loss_naive and implement a (naive)\n",
    "# version of the gradient that uses nested loops.\n",
    "loss, grad = softmax_loss_naive(W, X_dev, y_dev, 0.0)\n",
    "\n",
    "# As we did for the SVM, use numeric gradient checking as a debugging tool.\n",
    "# The numeric gradient should be close to the analytic gradient.\n",
    "from cs231n.gradient_check import grad_check_sparse\n",
    "f = lambda w: softmax_loss_naive(w, X_dev, y_dev, 0.0)[0]\n",
    "grad_numerical = grad_check_sparse(f, W, grad, 10)\n",
    "\n",
    "# similar to SVM case, do another gradient check with regularization\n",
    "loss, grad = softmax_loss_naive(W, X_dev, y_dev, 1e2)\n",
    "f = lambda w: softmax_loss_naive(w, X_dev, y_dev, 1e2)[0]\n",
    "grad_numerical = grad_check_sparse(f, W, grad, 10)"
   ]
  },
  {
   "cell_type": "code",
   "execution_count": 12,
   "metadata": {
    "collapsed": false
   },
   "outputs": [
    {
     "name": "stdout",
     "output_type": "stream",
     "text": [
      "naive loss: 2.352806e+00 computed in 0.202903s\n",
      "(500, 10)\n",
      "(500, 3073)\n",
      "vectorized loss: 2.352806e+00 computed in 0.039312s\n",
      "Loss difference: 0.000000\n",
      "Gradient difference: 0.000000\n"
     ]
    }
   ],
   "source": [
    "# Now that we have a naive implementation of the softmax loss function and its gradient,\n",
    "# implement a vectorized version in softmax_loss_vectorized.\n",
    "# The two versions should compute the same results, but the vectorized version should be\n",
    "# much faster.\n",
    "tic = time.time()\n",
    "loss_naive, grad_naive = softmax_loss_naive(W, X_dev, y_dev, 0.00001)\n",
    "toc = time.time()\n",
    "print 'naive loss: %e computed in %fs' % (loss_naive, toc - tic)\n",
    "\n",
    "from cs231n.classifiers.softmax import softmax_loss_vectorized\n",
    "tic = time.time()\n",
    "loss_vectorized, grad_vectorized = softmax_loss_vectorized(W, X_dev, y_dev, 0.00001)\n",
    "toc = time.time()\n",
    "print 'vectorized loss: %e computed in %fs' % (loss_vectorized, toc - tic)\n",
    "\n",
    "# As we did for the SVM, we use the Frobenius norm to compare the two versions\n",
    "# of the gradient.\n",
    "grad_difference = np.linalg.norm(grad_naive - grad_vectorized, ord='fro')\n",
    "print 'Loss difference: %f' % np.abs(loss_naive - loss_vectorized)\n",
    "print 'Gradient difference: %f' % grad_difference"
   ]
  },
  {
   "cell_type": "code",
   "execution_count": 33,
   "metadata": {
    "collapsed": false
   },
   "outputs": [
    {
     "name": "stdout",
     "output_type": "stream",
     "text": [
      "iteration 0 / 2000: loss 768.206250\n",
      "iteration 100 / 2000: loss 282.111783\n",
      "iteration 200 / 2000: loss 104.560803\n",
      "iteration 300 / 2000: loss 39.510130\n",
      "iteration 400 / 2000: loss 15.816559\n",
      "iteration 500 / 2000: loss 7.100276\n",
      "iteration 600 / 2000: loss 3.964289\n",
      "iteration 700 / 2000: loss 2.708351\n",
      "iteration 800 / 2000: loss 2.385027\n",
      "iteration 900 / 2000: loss 2.157086\n",
      "iteration 1000 / 2000: loss 2.109471\n",
      "iteration 1100 / 2000: loss 2.094441\n",
      "iteration 1200 / 2000: loss 2.046934\n",
      "iteration 1300 / 2000: loss 2.106937\n",
      "iteration 1400 / 2000: loss 2.072813\n",
      "iteration 1500 / 2000: loss 2.089192\n",
      "iteration 1600 / 2000: loss 2.047639\n",
      "iteration 1700 / 2000: loss 2.062529\n",
      "iteration 1800 / 2000: loss 2.083546\n",
      "iteration 1900 / 2000: loss 2.089243\n",
      "iteration 0 / 2000: loss 1543416.749307\n",
      "iteration 100 / 2000: loss 108889295357919687887915926465271295624158689228093969773549520136286629303539288859113710410583310988743164274753896045960854519033731377454254503595447658632333808017285202357549362931801723502592.000000\n",
      "iteration 200 / 2000: loss inf\n",
      "iteration 300 / 2000: loss inf\n",
      "iteration 400 / 2000: loss nan\n",
      "iteration 500 / 2000: loss nan\n",
      "iteration 600 / 2000: loss nan\n",
      "iteration 700 / 2000: loss nan\n",
      "iteration 800 / 2000: loss nan\n",
      "iteration 900 / 2000: loss nan\n",
      "iteration 1000 / 2000: loss nan\n",
      "iteration 1100 / 2000: loss nan\n",
      "iteration 1200 / 2000: loss nan\n",
      "iteration 1300 / 2000: loss nan\n",
      "iteration 1400 / 2000: loss nan\n",
      "iteration 1500 / 2000: loss nan\n",
      "iteration 1600 / 2000: loss nan\n",
      "iteration 1700 / 2000: loss nan\n",
      "iteration 1800 / 2000: loss nan\n",
      "iteration 1900 / 2000: loss nan\n",
      "iteration 0 / 2000: loss 775.140005\n",
      "iteration 100 / 2000: loss 6.929799\n",
      "iteration 200 / 2000: loss 2.130316\n",
      "iteration 300 / 2000: loss 2.033841\n",
      "iteration 400 / 2000: loss 2.117994\n",
      "iteration 500 / 2000: loss 2.055577\n",
      "iteration 600 / 2000: loss 2.037782\n",
      "iteration 700 / 2000: loss 2.062161\n",
      "iteration 800 / 2000: loss 2.086166\n",
      "iteration 900 / 2000: loss 2.048230\n",
      "iteration 1000 / 2000: loss 2.077019\n",
      "iteration 1100 / 2000: loss 2.085869\n",
      "iteration 1200 / 2000: loss 2.040732\n",
      "iteration 1300 / 2000: loss 2.054164\n",
      "iteration 1400 / 2000: loss 2.137530\n",
      "iteration 1500 / 2000: loss 2.060736\n",
      "iteration 1600 / 2000: loss 2.153568\n",
      "iteration 1700 / 2000: loss 2.079942\n",
      "iteration 1800 / 2000: loss 2.164645\n",
      "iteration 1900 / 2000: loss 2.105646\n",
      "iteration 0 / 2000: loss 1530623.806019\n",
      "iteration 100 / 2000: loss inf\n",
      "iteration 200 / 2000: loss nan\n",
      "iteration 300 / 2000: loss nan\n",
      "iteration 400 / 2000: loss nan\n",
      "iteration 500 / 2000: loss nan\n",
      "iteration 600 / 2000: loss nan\n",
      "iteration 700 / 2000: loss nan\n",
      "iteration 800 / 2000: loss nan\n",
      "iteration 900 / 2000: loss nan\n",
      "iteration 1000 / 2000: loss nan\n",
      "iteration 1100 / 2000: loss nan\n",
      "iteration 1200 / 2000: loss nan\n",
      "iteration 1300 / 2000: loss nan\n",
      "iteration 1400 / 2000: loss nan\n",
      "iteration 1500 / 2000: loss nan\n",
      "iteration 1600 / 2000: loss nan\n",
      "iteration 1700 / 2000: loss nan\n",
      "iteration 1800 / 2000: loss nan\n",
      "iteration 1900 / 2000: loss nan\n",
      "lr 1.000000e-07 reg 5.000000e+04 train accuracy: 0.331939 val accuracy: 0.346000\n",
      "lr 1.000000e-07 reg 1.000000e+08 train accuracy: 0.100265 val accuracy: 0.087000\n",
      "lr 5.000000e-07 reg 5.000000e+04 train accuracy: 0.314449 val accuracy: 0.326000\n",
      "lr 5.000000e-07 reg 1.000000e+08 train accuracy: 0.100265 val accuracy: 0.087000\n",
      "best validation accuracy achieved during cross-validation: 0.346000\n"
     ]
    }
   ],
   "source": [
    "# Use the validation set to tune hyperparameters (regularization strength and\n",
    "# learning rate). You should experiment with different ranges for the learning\n",
    "# rates and regularization strengths; if you are careful you should be able to\n",
    "# get a classification accuracy of over 0.35 on the validation set.\n",
    "from cs231n.classifiers import Softmax\n",
    "results = {}\n",
    "best_val = -1\n",
    "best_softmax = None\n",
    "learning_rates = [1e-7, 5e-7]\n",
    "regularization_strengths = [5e4, 1e8]\n",
    "\n",
    "################################################################################\n",
    "# TODO:                                                                        #\n",
    "# Use the validation set to set the learning rate and regularization strength. #\n",
    "# This should be identical to the validation that you did for the SVM; save    #\n",
    "# the best trained softmax classifer in best_softmax.                          #\n",
    "################################################################################\n",
    "iter_num = 2000\n",
    "for lr in learning_rates:\n",
    "    for rs in regularization_strengths:\n",
    "        softmax = Softmax()\n",
    "        softmax.train(X_train, y_train, learning_rate=lr, reg = rs, \n",
    "                     num_iters = iter_num, verbose = True)\n",
    "        y_train_pred = softmax.predict(X_train)\n",
    "        acc_train = np.mean(y_train == y_train_pred)\n",
    "        y_val_pred = softmax.predict(X_val)\n",
    "        acc_val = np.mean(y_val_pred == y_val)\n",
    "        results[(lr, rs)] = (acc_train, acc_val)\n",
    "        if acc_val > best_val:\n",
    "            best_val = acc_val\n",
    "            best_softmax = softmax\n",
    "################################################################################\n",
    "#                              END OF YOUR CODE                                #\n",
    "################################################################################\n",
    "    \n",
    "# Print out results.\n",
    "for lr, reg in sorted(results):\n",
    "    train_accuracy, val_accuracy = results[(lr, reg)]\n",
    "    print 'lr %e reg %e train accuracy: %f val accuracy: %f' % (\n",
    "                lr, reg, train_accuracy, val_accuracy)\n",
    "    \n",
    "print 'best validation accuracy achieved during cross-validation: %f' % best_val"
   ]
  },
  {
   "cell_type": "code",
   "execution_count": 34,
   "metadata": {
    "collapsed": false
   },
   "outputs": [
    {
     "name": "stdout",
     "output_type": "stream",
     "text": [
      "softmax on raw pixels final test set accuracy: 0.341000\n"
     ]
    }
   ],
   "source": [
    "# evaluate on test set\n",
    "# Evaluate the best softmax on test set\n",
    "y_test_pred = best_softmax.predict(X_test)\n",
    "test_accuracy = np.mean(y_test == y_test_pred)\n",
    "print 'softmax on raw pixels final test set accuracy: %f' % (test_accuracy, )"
   ]
  },
  {
   "cell_type": "code",
   "execution_count": 35,
   "metadata": {
    "collapsed": false
   },
   "outputs": [
    {
     "data": {
      "image/png": "[encoded data removed]",
      "text/plain": [
       "<matplotlib.figure.Figure at 0x7fee67f4a790>"
      ]
     },
     "metadata": {},
     "output_type": "display_data"
    }
   ],
   "source": [
    "# Visualize the learned weights for each class\n",
    "w = best_softmax.W[:-1,:] # strip out the bias\n",
    "w = w.reshape(32, 32, 3, 10)\n",
    "\n",
    "w_min, w_max = np.min(w), np.max(w)\n",
    "\n",
    "classes = ['plane', 'car', 'bird', 'cat', 'deer', 'dog', 'frog', 'horse', 'ship', 'truck']\n",
    "for i in xrange(10):\n",
    "  plt.subplot(2, 5, i + 1)\n",
    "  \n",
    "  # Rescale the weights to be between 0 and 255\n",
    "  wimg = 255.0 * (w[:, :, :, i].squeeze() - w_min) / (w_max - w_min)\n",
    "  plt.imshow(wimg.astype('uint8'))\n",
    "  plt.axis('off')\n",
    "  plt.title(classes[i])"
   ]
  },
  {
   "cell_type": "code",
   "execution_count": null,
   "metadata": {
    "collapsed": true
   },
   "outputs": [],
   "source": []
  }
 ],
 "metadata": {
  "kernelspec": {
   "display_name": "Python 2",
   "language": "python",
   "name": "python2"
  },
  "language_info": {
   "codemirror_mode": {
    "name": "ipython",
    "version": 2
   },
   "file_extension": ".py",
   "mimetype": "text/x-python",
   "name": "python",
   "nbconvert_exporter": "python",
   "pygments_lexer": "ipython2",
   "version": "2.7.6"
  }
 },
 "nbformat": 4,
 "nbformat_minor": 0
}
